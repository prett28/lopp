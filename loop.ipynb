{
 "cells": [
  {
   "cell_type": "code",
   "execution_count": 2,
   "id": "7ea0a125-46c4-4f98-8ae5-b1f210437c6f",
   "metadata": {},
   "outputs": [
    {
     "name": "stdout",
     "output_type": "stream",
     "text": [
      "1\n",
      "2\n",
      "3\n",
      "4\n",
      "5\n",
      "6\n",
      "7\n",
      "8\n",
      "9\n",
      "10\n"
     ]
    }
   ],
   "source": [
    "# Python program to print numbers from 1 to 10 using for loop\n",
    "\n",
    "for i in range(1, 11):\n",
    "    print(i)"
   ]
  },
  {
   "cell_type": "code",
   "execution_count": 3,
   "id": "8a7eba3f-c183-4f28-a7a6-44ad241cfaa0",
   "metadata": {},
   "outputs": [
    {
     "name": "stdout",
     "output_type": "stream",
     "text": [
      "Sum of numbers from 1 to 100 is: 5050\n"
     ]
    }
   ],
   "source": [
    "# Python program to find the sum of numbers from 1 to 100 using while loop\n",
    "\n",
    "i = 1\n",
    "total = 0\n",
    "\n",
    "while i <= 100:\n",
    "    total += i  # same as total = total + i\n",
    "    i += 1\n",
    "\n",
    "print(\"Sum of numbers from 1 to 100 is:\", total)\n",
    "\n"
   ]
  },
  {
   "cell_type": "code",
   "execution_count": 7,
   "id": "98a9d713-5b47-4b5e-858f-de6bd4543372",
   "metadata": {},
   "outputs": [
    {
     "name": "stdin",
     "output_type": "stream",
     "text": [
      "Enter a number to print its multiplication table in reverse:  7\n"
     ]
    },
    {
     "name": "stdout",
     "output_type": "stream",
     "text": [
      "\n",
      "Multiplication Table of 7 (in reverse order):\n",
      "7 x 10 = 70\n",
      "7 x 9 = 63\n",
      "7 x 8 = 56\n",
      "7 x 7 = 49\n",
      "7 x 6 = 42\n",
      "7 x 5 = 35\n",
      "7 x 4 = 28\n",
      "7 x 3 = 21\n",
      "7 x 2 = 14\n",
      "7 x 1 = 7\n"
     ]
    }
   ],
   "source": [
    "# Python Program to print multiplication table of a number in reverse order\n",
    "\n",
    "# Step 1: Take input from user\n",
    "num = int(input(\"Enter a number to print its multiplication table in reverse: \"))\n",
    "\n",
    "# Step 2: Use for loop to print table from 10 to 1\n",
    "print(f\"\\nMultiplication Table of {num} (in reverse order):\")\n",
    "\n",
    "for i in range(10, 0, -1):  # Starts from 10, goes till 1\n",
    "    print(f\"{num} x {i} = {num * i}\")"
   ]
  },
  {
   "cell_type": "code",
   "execution_count": 8,
   "id": "7b9c97bf-28ee-487d-9a39-676a92da975f",
   "metadata": {},
   "outputs": [
    {
     "name": "stdin",
     "output_type": "stream",
     "text": [
      "Enter a number to find its factorial:  6\n"
     ]
    },
    {
     "name": "stdout",
     "output_type": "stream",
     "text": [
      "Factorial of 6 is 720\n"
     ]
    }
   ],
   "source": [
    "# Python program to find factorial of a number using while loop\n",
    "\n",
    "# Step 1: Take input from user\n",
    "num = int(input(\"Enter a number to find its factorial: \"))\n",
    "\n",
    "# Step 2: Initialize variables\n",
    "factorial = 1\n",
    "i = 1\n",
    "\n",
    "# Step 3: Handle edge cases and use while loop\n",
    "if num < 0:\n",
    "    print(\"Factorial does not exist for negative numbers.\")\n",
    "elif num == 0:\n",
    "    print(\"Factorial of 0 is 1.\")\n",
    "else:\n",
    "    while i <= num:\n",
    "        factorial *= i\n",
    "        i += 1\n",
    "    print(f\"Factorial of {num} is {factorial}\")"
   ]
  },
  {
   "cell_type": "code",
   "execution_count": 9,
   "id": "0421208d-38a0-4335-a32c-e2d5dc9d512c",
   "metadata": {},
   "outputs": [
    {
     "name": "stdin",
     "output_type": "stream",
     "text": [
      "Enter the maximum value for the Fibonacci sequence:  100\n"
     ]
    },
    {
     "name": "stdout",
     "output_type": "stream",
     "text": [
      "Fibonacci sequence up to 100 is:\n",
      "0 1 1 2 3 5 8 13 21 34 55 89 "
     ]
    }
   ],
   "source": [
    "# Step 1: Take input from the user\n",
    "n = int(input(\"Enter the maximum value for the Fibonacci sequence: \"))\n",
    "\n",
    "# Step 2: Initialize the first two Fibonacci numbers\n",
    "a, b = 0, 1\n",
    "\n",
    "# Step 3: Print Fibonacci numbers using a while loop\n",
    "print(f\"Fibonacci sequence up to {n} is:\")\n",
    "\n",
    "while a <= n:\n",
    "    print(a, end=\" \")\n",
    "    a, b = b, a + b "
   ]
  },
  {
   "cell_type": "code",
   "execution_count": null,
   "id": "ce4f6dff-346c-4c20-aae2-07ae9d3e4bc3",
   "metadata": {},
   "outputs": [],
   "source": []
  }
 ],
 "metadata": {
  "kernelspec": {
   "display_name": "Python [conda env:---mynenv]",
   "language": "python",
   "name": "conda-env----mynenv-py"
  },
  "language_info": {
   "codemirror_mode": {
    "name": "ipython",
    "version": 3
   },
   "file_extension": ".py",
   "mimetype": "text/x-python",
   "name": "python",
   "nbconvert_exporter": "python",
   "pygments_lexer": "ipython3",
   "version": "3.13.5"
  }
 },
 "nbformat": 4,
 "nbformat_minor": 5
}
